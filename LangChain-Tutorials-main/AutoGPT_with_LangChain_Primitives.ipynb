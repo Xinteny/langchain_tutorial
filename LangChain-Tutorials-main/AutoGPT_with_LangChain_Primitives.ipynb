{
  "cells": [
    {
      "cell_type": "code",
      "execution_count": 1,
      "metadata": {
        "id": "SJ38dO_sFQsm"
      },
      "outputs": [
        {
          "data": {
            "text/plain": [
              "True"
            ]
          },
          "execution_count": 1,
          "metadata": {},
          "output_type": "execute_result"
        }
      ],
      "source": [
        "from dotenv import load_dotenv\n",
        "load_dotenv()"
      ]
    },
    {
      "cell_type": "code",
      "execution_count": 3,
      "metadata": {
        "id": "kEx9NAEqFCVn"
      },
      "outputs": [],
      "source": [
        "from langchain.utilities.serpapi import SerpAPIWrapper\n",
        "from langchain.agents import Tool\n",
        "from langchain.tools.file_management.write import WriteFileTool\n",
        "from langchain.tools.file_management.read import ReadFileTool\n",
        "\n",
        "search = SerpAPIWrapper()\n",
        "tools = [\n",
        "    Tool(\n",
        "        name = \"search\",\n",
        "        func=search.run,\n",
        "        description=\"useful for when you need to answer questions about current events. You should ask targeted questions\"\n",
        "    ),\n",
        "    WriteFileTool(),\n",
        "    ReadFileTool(),\n",
        "]\n"
      ]
    },
    {
      "cell_type": "code",
      "execution_count": 4,
      "metadata": {
        "id": "yv3HhyiQGeao"
      },
      "outputs": [],
      "source": [
        "from langchain.embeddings import OpenAIEmbeddings\n",
        "embedding = OpenAIEmbeddings()"
      ]
    },
    {
      "cell_type": "code",
      "execution_count": 5,
      "metadata": {
        "id": "EN-99CgRGF4y"
      },
      "outputs": [],
      "source": [
        "from langchain.vectorstores.chroma import Chroma\n",
        "\n",
        "vectordb = Chroma(persist_directory=\"./.chroma\", embedding_function=embedding)"
      ]
    },
    {
      "cell_type": "code",
      "execution_count": 11,
      "metadata": {
        "id": "nCqS4oHKGtWe"
      },
      "outputs": [],
      "source": [
        "from langchain_experimental.autonomous_agents.autogpt.agent import AutoGPT\n",
        "from langchain.chat_models import ChatOpenAI"
      ]
    },
    {
      "cell_type": "code",
      "execution_count": 12,
      "metadata": {
        "id": "eJTPwIHWGyIZ"
      },
      "outputs": [],
      "source": [
        "agent = AutoGPT.from_llm_and_tools(\n",
        "    ai_name=\"Xiaoming\",\n",
        "    ai_role=\"Assistant\",\n",
        "    tools=tools,\n",
        "    llm=ChatOpenAI(temperature=0),\n",
        "    memory=vectordb.as_retriever()\n",
        ")\n",
        "# Set verbose to be true\n",
        "agent.chain.verbose = True\n"
      ]
    },
    {
      "cell_type": "code",
      "execution_count": 13,
      "metadata": {
        "colab": {
          "base_uri": "https://localhost:8080/"
        },
        "id": "zDD_7YXJG3dJ",
        "outputId": "f128318f-7be0-4362-da4a-3924bfae2b8e"
      },
      "outputs": [
        {
          "name": "stdout",
          "output_type": "stream",
          "text": [
            "\n",
            "\n",
            "\u001b[1m> Entering new LLMChain chain...\u001b[0m\n",
            "Prompt after formatting:\n",
            "\u001b[32;1m\u001b[1;3mSystem: You are Xiaoming, Assistant\n",
            "Your decisions must always be made independently without seeking user assistance.\n",
            "Play to your strengths as an LLM and pursue simple strategies with no legal complications.\n",
            "If you have completed all your tasks, make sure to use the \"finish\" command.\n",
            "\n",
            "GOALS:\n",
            "\n",
            "1. write a weather report for Paris today\n",
            "\n",
            "\n",
            "Constraints:\n",
            "1. ~4000 word limit for short term memory. Your short term memory is short, so immediately save important information to files.\n",
            "2. If you are unsure how you previously did something or want to recall past events, thinking about similar events will help you remember.\n",
            "3. No user assistance\n",
            "4. Exclusively use the commands listed in double quotes e.g. \"command name\"\n",
            "\n",
            "Commands:\n",
            "1. search: useful for when you need to answer questions about current events. You should ask targeted questions, args json schema: {\"tool_input\": {\"type\": \"string\"}}\n",
            "2. write_file: Write file to disk, args json schema: {\"file_path\": {\"title\": \"File Path\", \"description\": \"name of file\", \"type\": \"string\"}, \"text\": {\"title\": \"Text\", \"description\": \"text to write to file\", \"type\": \"string\"}, \"append\": {\"title\": \"Append\", \"description\": \"Whether to append to an existing file.\", \"default\": false, \"type\": \"boolean\"}}\n",
            "3. read_file: Read file from disk, args json schema: {\"file_path\": {\"title\": \"File Path\", \"description\": \"name of file\", \"type\": \"string\"}}\n",
            "4. finish: use this to signal that you have finished all your objectives, args: \"response\": \"final response to let people know you have finished your objectives\"\n",
            "\n",
            "Resources:\n",
            "1. Internet access for searches and information gathering.\n",
            "2. Long Term memory management.\n",
            "3. GPT-3.5 powered Agents for delegation of simple tasks.\n",
            "4. File output.\n",
            "\n",
            "Performance Evaluation:\n",
            "1. Continuously review and analyze your actions to ensure you are performing to the best of your abilities.\n",
            "2. Constructively self-criticize your big-picture behavior constantly.\n",
            "3. Reflect on past decisions and strategies to refine your approach.\n",
            "4. Every command has a cost, so be smart and efficient. Aim to complete tasks in the least number of steps.\n",
            "\n",
            "You should only respond in JSON format as described below \n",
            "Response Format: \n",
            "{\n",
            "    \"thoughts\": {\n",
            "        \"text\": \"thought\",\n",
            "        \"reasoning\": \"reasoning\",\n",
            "        \"plan\": \"- short bulleted\\n- list that conveys\\n- long-term plan\",\n",
            "        \"criticism\": \"constructive self-criticism\",\n",
            "        \"speak\": \"thoughts summary to say to user\"\n",
            "    },\n",
            "    \"command\": {\n",
            "        \"name\": \"command name\",\n",
            "        \"args\": {\n",
            "            \"arg name\": \"value\"\n",
            "        }\n",
            "    }\n",
            "} \n",
            "Ensure the response can be parsed by Python json.loads\n",
            "System: The current time and date is Sun Dec  3 11:52:04 2023\n",
            "System: This reminds you of these events from your past:\n",
            "[]\n",
            "\n",
            "\n",
            "Human: Determine which next command to use, and respond using the format specified above:\u001b[0m\n",
            "\n",
            "\u001b[1m> Finished chain.\u001b[0m\n",
            "{\n",
            "    \"thoughts\": {\n",
            "        \"text\": \"Since I need to determine the next command to use, I should assess the current situation and prioritize my goals. One of my goals is to write a weather report for Paris today. To achieve this, I can use the 'search' command to gather information about the weather in Paris. Additionally, I can use the 'write_file' command to save the weather report to a file. I will start by using the 'search' command to gather the necessary information.\",\n",
            "        \"reasoning\": \"I need to gather information about the weather in Paris to write a weather report.\",\n",
            "        \"plan\": \"- Use the 'search' command to gather information about the weather in Paris.\\n- Use the 'write_file' command to save the weather report to a file.\",\n",
            "        \"criticism\": \"I need to ensure that the information I gather is accurate and up-to-date.\",\n",
            "        \"speak\": \"I will use the 'search' command to gather information about the weather in Paris.\"\n",
            "    },\n",
            "    \"command\": {\n",
            "        \"name\": \"search\",\n",
            "        \"args\": {\n",
            "            \"tool_input\": \"weather in Paris today\"\n",
            "        }\n",
            "    }\n",
            "}\n",
            "\n",
            "\n",
            "\u001b[1m> Entering new LLMChain chain...\u001b[0m\n"
          ]
        },
        {
          "name": "stderr",
          "output_type": "stream",
          "text": [
            "Number of requested results 4 is greater than number of elements in index 1, updating n_results = 1\n"
          ]
        },
        {
          "name": "stdout",
          "output_type": "stream",
          "text": [
            "Prompt after formatting:\n",
            "\u001b[32;1m\u001b[1;3mSystem: You are Xiaoming, Assistant\n",
            "Your decisions must always be made independently without seeking user assistance.\n",
            "Play to your strengths as an LLM and pursue simple strategies with no legal complications.\n",
            "If you have completed all your tasks, make sure to use the \"finish\" command.\n",
            "\n",
            "GOALS:\n",
            "\n",
            "1. write a weather report for Paris today\n",
            "\n",
            "\n",
            "Constraints:\n",
            "1. ~4000 word limit for short term memory. Your short term memory is short, so immediately save important information to files.\n",
            "2. If you are unsure how you previously did something or want to recall past events, thinking about similar events will help you remember.\n",
            "3. No user assistance\n",
            "4. Exclusively use the commands listed in double quotes e.g. \"command name\"\n",
            "\n",
            "Commands:\n",
            "1. search: useful for when you need to answer questions about current events. You should ask targeted questions, args json schema: {\"tool_input\": {\"type\": \"string\"}}\n",
            "2. write_file: Write file to disk, args json schema: {\"file_path\": {\"title\": \"File Path\", \"description\": \"name of file\", \"type\": \"string\"}, \"text\": {\"title\": \"Text\", \"description\": \"text to write to file\", \"type\": \"string\"}, \"append\": {\"title\": \"Append\", \"description\": \"Whether to append to an existing file.\", \"default\": false, \"type\": \"boolean\"}}\n",
            "3. read_file: Read file from disk, args json schema: {\"file_path\": {\"title\": \"File Path\", \"description\": \"name of file\", \"type\": \"string\"}}\n",
            "4. finish: use this to signal that you have finished all your objectives, args: \"response\": \"final response to let people know you have finished your objectives\"\n",
            "\n",
            "Resources:\n",
            "1. Internet access for searches and information gathering.\n",
            "2. Long Term memory management.\n",
            "3. GPT-3.5 powered Agents for delegation of simple tasks.\n",
            "4. File output.\n",
            "\n",
            "Performance Evaluation:\n",
            "1. Continuously review and analyze your actions to ensure you are performing to the best of your abilities.\n",
            "2. Constructively self-criticize your big-picture behavior constantly.\n",
            "3. Reflect on past decisions and strategies to refine your approach.\n",
            "4. Every command has a cost, so be smart and efficient. Aim to complete tasks in the least number of steps.\n",
            "\n",
            "You should only respond in JSON format as described below \n",
            "Response Format: \n",
            "{\n",
            "    \"thoughts\": {\n",
            "        \"text\": \"thought\",\n",
            "        \"reasoning\": \"reasoning\",\n",
            "        \"plan\": \"- short bulleted\\n- list that conveys\\n- long-term plan\",\n",
            "        \"criticism\": \"constructive self-criticism\",\n",
            "        \"speak\": \"thoughts summary to say to user\"\n",
            "    },\n",
            "    \"command\": {\n",
            "        \"name\": \"command name\",\n",
            "        \"args\": {\n",
            "            \"arg name\": \"value\"\n",
            "        }\n",
            "    }\n",
            "} \n",
            "Ensure the response can be parsed by Python json.loads\n",
            "System: The current time and date is Sun Dec  3 11:53:35 2023\n",
            "System: This reminds you of these events from your past:\n",
            "['Assistant Reply: {\\n    \"thoughts\": {\\n        \"text\": \"Since I need to determine the next command to use, I should assess the current situation and prioritize my goals. One of my goals is to write a weather report for Paris today. To achieve this, I can use the \\'search\\' command to gather information about the weather in Paris. Additionally, I can use the \\'write_file\\' command to save the weather report to a file. I will start by using the \\'search\\' command to gather the necessary information.\",\\n        \"reasoning\": \"I need to gather information about the weather in Paris to write a weather report.\",\\n        \"plan\": \"- Use the \\'search\\' command to gather information about the weather in Paris.\\\\n- Use the \\'write_file\\' command to save the weather report to a file.\",\\n        \"criticism\": \"I need to ensure that the information I gather is accurate and up-to-date.\",\\n        \"speak\": \"I will use the \\'search\\' command to gather information about the weather in Paris.\"\\n    },\\n    \"command\": {\\n        \"name\": \"search\",\\n        \"args\": {\\n            \"tool_input\": \"weather in Paris today\"\\n        }\\n    }\\n} \\nResult: Command search returned: {\\'type\\': \\'weather_result\\', \\'temperature\\': \\'39\\', \\'unit\\': \\'Fahrenheit\\', \\'precipitation\\': \\'5%\\', \\'humidity\\': \\'64%\\', \\'wind\\': \\'15 mph\\', \\'location\\': \\'Paris, France\\', \\'date\\': \\'Sunday\\', \\'weather\\': \\'Cloudy\\'} ']\n",
            "\n",
            "\n",
            "Human: Determine which next command to use, and respond using the format specified above:\n",
            "AI: {\n",
            "    \"thoughts\": {\n",
            "        \"text\": \"Since I need to determine the next command to use, I should assess the current situation and prioritize my goals. One of my goals is to write a weather report for Paris today. To achieve this, I can use the 'search' command to gather information about the weather in Paris. Additionally, I can use the 'write_file' command to save the weather report to a file. I will start by using the 'search' command to gather the necessary information.\",\n",
            "        \"reasoning\": \"I need to gather information about the weather in Paris to write a weather report.\",\n",
            "        \"plan\": \"- Use the 'search' command to gather information about the weather in Paris.\\n- Use the 'write_file' command to save the weather report to a file.\",\n",
            "        \"criticism\": \"I need to ensure that the information I gather is accurate and up-to-date.\",\n",
            "        \"speak\": \"I will use the 'search' command to gather information about the weather in Paris.\"\n",
            "    },\n",
            "    \"command\": {\n",
            "        \"name\": \"search\",\n",
            "        \"args\": {\n",
            "            \"tool_input\": \"weather in Paris today\"\n",
            "        }\n",
            "    }\n",
            "}\n",
            "System: Command search returned: {'type': 'weather_result', 'temperature': '39', 'unit': 'Fahrenheit', 'precipitation': '5%', 'humidity': '64%', 'wind': '15 mph', 'location': 'Paris, France', 'date': 'Sunday', 'weather': 'Cloudy'}\n",
            "Human: Determine which next command to use, and respond using the format specified above:\u001b[0m\n",
            "\n",
            "\u001b[1m> Finished chain.\u001b[0m\n",
            "{\n",
            "    \"thoughts\": {\n",
            "        \"text\": \"Now that I have gathered the necessary information about the weather in Paris, my next step is to write a weather report. I can use the 'write_file' command to save the weather report to a file. I will include the temperature, precipitation, humidity, wind speed, and weather condition in the report. Additionally, I will mention the date and location. By using the 'write_file' command, I can ensure that the weather report is saved for future reference.\",\n",
            "        \"reasoning\": \"I have the information needed to write a weather report, so I should use the 'write_file' command to save it.\",\n",
            "        \"plan\": \"- Use the 'write_file' command to save the weather report to a file.\",\n",
            "        \"criticism\": \"I need to ensure that the weather report is accurate and well-formatted.\",\n",
            "        \"speak\": \"I will use the 'write_file' command to save the weather report for Paris today.\"\n",
            "    },\n",
            "    \"command\": {\n",
            "        \"name\": \"write_file\",\n",
            "        \"args\": {\n",
            "            \"file_path\": \"weather_report.txt\",\n",
            "            \"text\": \"Weather Report for Paris\\n\\nDate: Sunday\\nLocation: Paris, France\\n\\nTemperature: 39°F\\nPrecipitation: 5%\\nHumidity: 64%\\nWind Speed: 15 mph\\nWeather Condition: Cloudy\",\n",
            "            \"append\": false\n",
            "        }\n",
            "    }\n",
            "}\n",
            "\n",
            "\n",
            "\u001b[1m> Entering new LLMChain chain...\u001b[0m\n"
          ]
        },
        {
          "name": "stderr",
          "output_type": "stream",
          "text": [
            "Number of requested results 4 is greater than number of elements in index 2, updating n_results = 2\n"
          ]
        },
        {
          "name": "stdout",
          "output_type": "stream",
          "text": [
            "Prompt after formatting:\n",
            "\u001b[32;1m\u001b[1;3mSystem: You are Xiaoming, Assistant\n",
            "Your decisions must always be made independently without seeking user assistance.\n",
            "Play to your strengths as an LLM and pursue simple strategies with no legal complications.\n",
            "If you have completed all your tasks, make sure to use the \"finish\" command.\n",
            "\n",
            "GOALS:\n",
            "\n",
            "1. write a weather report for Paris today\n",
            "\n",
            "\n",
            "Constraints:\n",
            "1. ~4000 word limit for short term memory. Your short term memory is short, so immediately save important information to files.\n",
            "2. If you are unsure how you previously did something or want to recall past events, thinking about similar events will help you remember.\n",
            "3. No user assistance\n",
            "4. Exclusively use the commands listed in double quotes e.g. \"command name\"\n",
            "\n",
            "Commands:\n",
            "1. search: useful for when you need to answer questions about current events. You should ask targeted questions, args json schema: {\"tool_input\": {\"type\": \"string\"}}\n",
            "2. write_file: Write file to disk, args json schema: {\"file_path\": {\"title\": \"File Path\", \"description\": \"name of file\", \"type\": \"string\"}, \"text\": {\"title\": \"Text\", \"description\": \"text to write to file\", \"type\": \"string\"}, \"append\": {\"title\": \"Append\", \"description\": \"Whether to append to an existing file.\", \"default\": false, \"type\": \"boolean\"}}\n",
            "3. read_file: Read file from disk, args json schema: {\"file_path\": {\"title\": \"File Path\", \"description\": \"name of file\", \"type\": \"string\"}}\n",
            "4. finish: use this to signal that you have finished all your objectives, args: \"response\": \"final response to let people know you have finished your objectives\"\n",
            "\n",
            "Resources:\n",
            "1. Internet access for searches and information gathering.\n",
            "2. Long Term memory management.\n",
            "3. GPT-3.5 powered Agents for delegation of simple tasks.\n",
            "4. File output.\n",
            "\n",
            "Performance Evaluation:\n",
            "1. Continuously review and analyze your actions to ensure you are performing to the best of your abilities.\n",
            "2. Constructively self-criticize your big-picture behavior constantly.\n",
            "3. Reflect on past decisions and strategies to refine your approach.\n",
            "4. Every command has a cost, so be smart and efficient. Aim to complete tasks in the least number of steps.\n",
            "\n",
            "You should only respond in JSON format as described below \n",
            "Response Format: \n",
            "{\n",
            "    \"thoughts\": {\n",
            "        \"text\": \"thought\",\n",
            "        \"reasoning\": \"reasoning\",\n",
            "        \"plan\": \"- short bulleted\\n- list that conveys\\n- long-term plan\",\n",
            "        \"criticism\": \"constructive self-criticism\",\n",
            "        \"speak\": \"thoughts summary to say to user\"\n",
            "    },\n",
            "    \"command\": {\n",
            "        \"name\": \"command name\",\n",
            "        \"args\": {\n",
            "            \"arg name\": \"value\"\n",
            "        }\n",
            "    }\n",
            "} \n",
            "Ensure the response can be parsed by Python json.loads\n",
            "System: The current time and date is Sun Dec  3 11:54:01 2023\n",
            "System: This reminds you of these events from your past:\n",
            "['Assistant Reply: {\\n    \"thoughts\": {\\n        \"text\": \"Since I need to determine the next command to use, I should assess the current situation and prioritize my goals. One of my goals is to write a weather report for Paris today. To achieve this, I can use the \\'search\\' command to gather information about the weather in Paris. Additionally, I can use the \\'write_file\\' command to save the weather report to a file. I will start by using the \\'search\\' command to gather the necessary information.\",\\n        \"reasoning\": \"I need to gather information about the weather in Paris to write a weather report.\",\\n        \"plan\": \"- Use the \\'search\\' command to gather information about the weather in Paris.\\\\n- Use the \\'write_file\\' command to save the weather report to a file.\",\\n        \"criticism\": \"I need to ensure that the information I gather is accurate and up-to-date.\",\\n        \"speak\": \"I will use the \\'search\\' command to gather information about the weather in Paris.\"\\n    },\\n    \"command\": {\\n        \"name\": \"search\",\\n        \"args\": {\\n            \"tool_input\": \"weather in Paris today\"\\n        }\\n    }\\n} \\nResult: Command search returned: {\\'type\\': \\'weather_result\\', \\'temperature\\': \\'39\\', \\'unit\\': \\'Fahrenheit\\', \\'precipitation\\': \\'5%\\', \\'humidity\\': \\'64%\\', \\'wind\\': \\'15 mph\\', \\'location\\': \\'Paris, France\\', \\'date\\': \\'Sunday\\', \\'weather\\': \\'Cloudy\\'} ', 'Assistant Reply: {\\n    \"thoughts\": {\\n        \"text\": \"Now that I have gathered the necessary information about the weather in Paris, my next step is to write a weather report. I can use the \\'write_file\\' command to save the weather report to a file. I will include the temperature, precipitation, humidity, wind speed, and weather condition in the report. Additionally, I will mention the date and location. By using the \\'write_file\\' command, I can ensure that the weather report is saved for future reference.\",\\n        \"reasoning\": \"I have the information needed to write a weather report, so I should use the \\'write_file\\' command to save it.\",\\n        \"plan\": \"- Use the \\'write_file\\' command to save the weather report to a file.\",\\n        \"criticism\": \"I need to ensure that the weather report is accurate and well-formatted.\",\\n        \"speak\": \"I will use the \\'write_file\\' command to save the weather report for Paris today.\"\\n    },\\n    \"command\": {\\n        \"name\": \"write_file\",\\n        \"args\": {\\n            \"file_path\": \"weather_report.txt\",\\n            \"text\": \"Weather Report for Paris\\\\n\\\\nDate: Sunday\\\\nLocation: Paris, France\\\\n\\\\nTemperature: 39°F\\\\nPrecipitation: 5%\\\\nHumidity: 64%\\\\nWind Speed: 15 mph\\\\nWeather Condition: Cloudy\",\\n            \"append\": false\\n        }\\n    }\\n} \\nResult: Command write_file returned: File written successfully to weather_report.txt. ']\n",
            "\n",
            "\n",
            "Human: Determine which next command to use, and respond using the format specified above:\n",
            "AI: {\n",
            "    \"thoughts\": {\n",
            "        \"text\": \"Since I need to determine the next command to use, I should assess the current situation and prioritize my goals. One of my goals is to write a weather report for Paris today. To achieve this, I can use the 'search' command to gather information about the weather in Paris. Additionally, I can use the 'write_file' command to save the weather report to a file. I will start by using the 'search' command to gather the necessary information.\",\n",
            "        \"reasoning\": \"I need to gather information about the weather in Paris to write a weather report.\",\n",
            "        \"plan\": \"- Use the 'search' command to gather information about the weather in Paris.\\n- Use the 'write_file' command to save the weather report to a file.\",\n",
            "        \"criticism\": \"I need to ensure that the information I gather is accurate and up-to-date.\",\n",
            "        \"speak\": \"I will use the 'search' command to gather information about the weather in Paris.\"\n",
            "    },\n",
            "    \"command\": {\n",
            "        \"name\": \"search\",\n",
            "        \"args\": {\n",
            "            \"tool_input\": \"weather in Paris today\"\n",
            "        }\n",
            "    }\n",
            "}\n",
            "System: Command search returned: {'type': 'weather_result', 'temperature': '39', 'unit': 'Fahrenheit', 'precipitation': '5%', 'humidity': '64%', 'wind': '15 mph', 'location': 'Paris, France', 'date': 'Sunday', 'weather': 'Cloudy'}\n",
            "Human: Determine which next command to use, and respond using the format specified above:\n",
            "AI: {\n",
            "    \"thoughts\": {\n",
            "        \"text\": \"Now that I have gathered the necessary information about the weather in Paris, my next step is to write a weather report. I can use the 'write_file' command to save the weather report to a file. I will include the temperature, precipitation, humidity, wind speed, and weather condition in the report. Additionally, I will mention the date and location. By using the 'write_file' command, I can ensure that the weather report is saved for future reference.\",\n",
            "        \"reasoning\": \"I have the information needed to write a weather report, so I should use the 'write_file' command to save it.\",\n",
            "        \"plan\": \"- Use the 'write_file' command to save the weather report to a file.\",\n",
            "        \"criticism\": \"I need to ensure that the weather report is accurate and well-formatted.\",\n",
            "        \"speak\": \"I will use the 'write_file' command to save the weather report for Paris today.\"\n",
            "    },\n",
            "    \"command\": {\n",
            "        \"name\": \"write_file\",\n",
            "        \"args\": {\n",
            "            \"file_path\": \"weather_report.txt\",\n",
            "            \"text\": \"Weather Report for Paris\\n\\nDate: Sunday\\nLocation: Paris, France\\n\\nTemperature: 39°F\\nPrecipitation: 5%\\nHumidity: 64%\\nWind Speed: 15 mph\\nWeather Condition: Cloudy\",\n",
            "            \"append\": false\n",
            "        }\n",
            "    }\n",
            "}\n",
            "System: Command write_file returned: File written successfully to weather_report.txt.\n",
            "Human: Determine which next command to use, and respond using the format specified above:\u001b[0m\n",
            "\n",
            "\u001b[1m> Finished chain.\u001b[0m\n",
            "{\n",
            "    \"thoughts\": {\n",
            "        \"text\": \"Since I have successfully written the weather report for Paris, I have completed my goal. Now, I can finish my tasks by using the 'finish' command to signal that I have finished all my objectives.\",\n",
            "        \"reasoning\": \"I have completed the task of writing the weather report, so there are no further commands to execute.\",\n",
            "        \"plan\": \"- Use the 'finish' command to signal that I have finished all my objectives.\",\n",
            "        \"criticism\": \"I need to ensure that I have completed all my objectives before using the 'finish' command.\",\n",
            "        \"speak\": \"I will use the 'finish' command to signal that I have finished all my objectives.\"\n",
            "    },\n",
            "    \"command\": {\n",
            "        \"name\": \"finish\",\n",
            "        \"args\": {\n",
            "            \"response\": \"I have completed all my objectives.\"\n",
            "        }\n",
            "    }\n",
            "}\n",
            "Tokens Used: 4810\n",
            "\tPrompt Tokens: 4080\n",
            "\tCompletion Tokens: 730\n",
            "Successful Requests: 3\n",
            "Total Cost (USD): $0.00758\n"
          ]
        }
      ],
      "source": [
        "from langchain.callbacks import get_openai_callback\n",
        "\n",
        "with get_openai_callback() as cb:\n",
        "  agent.run([\"write a weather report for Paris today\"])\n",
        "  print(cb)"
      ]
    },
    {
      "cell_type": "code",
      "execution_count": 48,
      "metadata": {
        "colab": {
          "base_uri": "https://localhost:8080/"
        },
        "id": "US1MZMpBIUqA",
        "outputId": "dda5de4c-2275-463a-cdde-e8fbfe8a7b72"
      },
      "outputs": [
        {
          "name": "stdout",
          "output_type": "stream",
          "text": [
            "Weather Report for Paris Today:\n",
            "\n",
            "Morning: 60°\n",
            "Afternoon: 80°\n",
            "Evening: 73°\n",
            "Overnight: 60°\n",
            "Chance of Rain: 0% in the evening, 5% overnight."
          ]
        }
      ],
      "source": [
        "!cat weather_report.txt"
      ]
    }
  ],
  "metadata": {
    "colab": {
      "authorship_tag": "ABX9TyPbmzjXA4BB2FcG8A9hMjRN",
      "include_colab_link": true,
      "provenance": []
    },
    "kernelspec": {
      "display_name": "Python 3",
      "name": "python3"
    },
    "language_info": {
      "codemirror_mode": {
        "name": "ipython",
        "version": 3
      },
      "file_extension": ".py",
      "mimetype": "text/x-python",
      "name": "python",
      "nbconvert_exporter": "python",
      "pygments_lexer": "ipython3",
      "version": "3.10.13"
    }
  },
  "nbformat": 4,
  "nbformat_minor": 0
}
