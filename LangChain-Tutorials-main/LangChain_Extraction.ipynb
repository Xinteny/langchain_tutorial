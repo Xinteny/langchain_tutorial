{
  "cells": [
    {
      "cell_type": "code",
      "execution_count": 2,
      "metadata": {
        "id": "AGmcGwiiP_e_"
      },
      "outputs": [],
      "source": [
        "from langchain.chat_models import ChatOpenAI\n",
        "from kor import create_extraction_chain, Object, Text \n",
        "\n",
        "llm = ChatOpenAI(\n",
        "    model_name=\"gpt-3.5-turbo\",\n",
        "    temperature=0,\n",
        "    max_tokens=2000,\n",
        "    frequency_penalty=0,\n",
        "    presence_penalty=0,\n",
        "    top_p=1.0,\n",
        ")\n",
        "\n",
        "schema = Object(\n",
        "    id=\"player\",\n",
        "    description=(\n",
        "        \"User is controlling a music player to select songs, pause or start them or play\"\n",
        "        \" music by a particular artist.\"\n",
        "    ),\n",
        "    attributes=[\n",
        "        Text(\n",
        "            id=\"song\",\n",
        "            description=\"User wants to play this song\",\n",
        "            examples=[],\n",
        "            many=True,\n",
        "        ),\n",
        "        Text(\n",
        "            id=\"album\",\n",
        "            description=\"User wants to play this album\",\n",
        "            examples=[],\n",
        "            many=True,\n",
        "        ),\n",
        "        Text(\n",
        "            id=\"artist\",\n",
        "            description=\"Music by the given artist\",\n",
        "            examples=[(\"Songs by paul simon\", \"paul simon\")],\n",
        "            many=True,\n",
        "        ),\n",
        "        Text(\n",
        "            id=\"action\",\n",
        "            description=\"Action to take one of: `play`, `stop`, `next`, `previous`.\",\n",
        "            examples=[\n",
        "                (\"Please stop the music\", \"stop\"),\n",
        "                (\"play something\", \"play\"),\n",
        "                (\"play a song\", \"play\"),\n",
        "                (\"next song\", \"next\"),\n",
        "            ],\n",
        "        ),\n",
        "    ],\n",
        "    many=False,\n",
        ")\n",
        "\n",
        "chain = create_extraction_chain(llm, schema, encoder_or_encoder_class='json')\n",
        "chain.run(\"play songs by paul simon and led zeppelin and the doors\")['data']"
      ]
    },
    {
      "cell_type": "code",
      "execution_count": null,
      "metadata": {
        "id": "sH0lREGXR57O"
      },
      "outputs": [],
      "source": [
        "import json\n",
        "\n",
        "def json_dump(json_object):\n",
        "  json_formatted_str = json.dumps(json_object, indent=2, ensure_ascii=False)\n",
        "  print(json_formatted_str)"
      ]
    },
    {
      "cell_type": "code",
      "execution_count": 3,
      "metadata": {
        "id": "vOeS_iMDQGK2"
      },
      "outputs": [
        {
          "data": {
            "text/plain": [
              "True"
            ]
          },
          "execution_count": 3,
          "metadata": {},
          "output_type": "execute_result"
        }
      ],
      "source": [
        "from dotenv import load_dotenv\n",
        "load_dotenv()"
      ]
    },
    {
      "cell_type": "code",
      "execution_count": 4,
      "metadata": {
        "id": "OHNQODxSP7ya"
      },
      "outputs": [],
      "source": [
        "llm = ChatOpenAI(\n",
        "    model_name=\"gpt-3.5-turbo\",\n",
        "    temperature=0,\n",
        ")\n"
      ]
    },
    {
      "cell_type": "code",
      "execution_count": null,
      "metadata": {},
      "outputs": [],
      "source": []
    },
    {
      "cell_type": "code",
      "execution_count": 80,
      "metadata": {
        "id": "4ahT3U-GQW2i"
      },
      "outputs": [],
      "source": [
        "club_schema = Object(\n",
        "    id=\"club\",\n",
        "    description=\"Information about a club\",\n",
        "    \n",
        "    attributes=[\n",
        "        Text(\n",
        "            id=\"name\",\n",
        "            description=\"The name of the club.\"\n",
        "        ),\n",
        "        Text(\n",
        "            id=\"manager\",\n",
        "            description=\"The name of the manager.\"\n",
        "        ),\n",
        "        Number(\n",
        "            id=\"ranking\",\n",
        "            description=\"The ranking of the club.\"\n",
        "        )\n",
        "    ],\n",
        "    examples=[\n",
        "        (\n",
        "            \"Napoli managed by Spalletti are the 1st, Juventus managed by Allegri are the 5th.\",\n",
        "            [\n",
        "                {\"name\": \"Napoli\", \"manager\": \"Spalletti\", \"ranking\": 1},\n",
        "                {\"name\": \"Juventus\", \"manager\": \"Allegri\", \"ranking\": 5},\n",
        "            ],\n",
        "        )\n",
        "    ]\n",
        ")\n"
      ]
    },
    {
      "cell_type": "code",
      "execution_count": 81,
      "metadata": {
        "id": "jUrxHjVuRCYd"
      },
      "outputs": [],
      "source": [
        "extraction_chain = create_extraction_chain(llm, club_schema)"
      ]
    },
    {
      "cell_type": "code",
      "execution_count": 82,
      "metadata": {
        "id": "X8K9_Bb6RJ0V"
      },
      "outputs": [
        {
          "name": "stdout",
          "output_type": "stream",
          "text": [
            "{\n",
            "  \"club\": [\n",
            "    {\n",
            "      \"name\": \"Arsenal\",\n",
            "      \"manager\": \"Arteta\",\n",
            "      \"ranking\": \"1\"\n",
            "    },\n",
            "    {\n",
            "      \"name\": \"Manchester City\",\n",
            "      \"manager\": \"Pep\",\n",
            "      \"ranking\": \"2\"\n",
            "    }\n",
            "  ]\n",
            "}\n"
          ]
        }
      ],
      "source": [
        "\n",
        "text='''\n",
        "    Manchester City are just 1 point after Arsenal. \n",
        "    Arsenal are on top of the table.\n",
        "    The 2 managers Pep and Arteta are going to meet face to face in this weekend.\n",
        "'''\n",
        "output = extraction_chain.predict_and_parse(text=text)['data']\n",
        "\n",
        "json_dump(output)"
      ]
    },
    {
      "cell_type": "code",
      "execution_count": 83,
      "metadata": {},
      "outputs": [],
      "source": [
        "stock_market_schema = Object(\n",
        "    id=\"stock_market\",\n",
        "    description=\"A股市场收评，上涨板块综述\",\n",
        "    \n",
        "    # Notice I put multiple fields to pull out different attributes\n",
        "    attributes=[\n",
        "        Text(\n",
        "            id=\"industry_name\",\n",
        "            description=\"行业板块名称\"\n",
        "        )\n",
        "    ],\n",
        "    examples=[\n",
        "        (\n",
        "            '''\n",
        "                周二市场呈现出震荡调整格局，盘中行业板块及题材呈现局部轮动和分化，保险、煤炭、通信设备、银行、家用电器、IT设备、有色、电气设备等行业活跃。\n",
        "                酒店餐饮、半导体、旅游、多元金融、电器仪表、元器件、通用机械、商业连锁、医药等行业呈现回调。\n",
        "            ''',\n",
        "            [\n",
        "                {\"industry_name\": \"保险\"},\n",
        "                {\"industry_name\": \"煤炭\"},\n",
        "                {\"industry_name\": \"通信设备\"},\n",
        "                {\"industry_name\": \"银行\"},\n",
        "                {\"industry_name\": \"家用电器\"},\n",
        "                {\"industry_name\": \"IT设备\"},\n",
        "                {\"industry_name\": \"有色\"},\n",
        "                {\"industry_name\": \"电气设备\"}\n",
        "            ],\n",
        "        ),\n",
        "        (\n",
        "            '''\n",
        "                截至2023年4月14日收盘，上证指数收涨0.60%，报收3338.15点;深证成指涨0.51%，报收11800.09点;创业板指涨0.93%，报收2428.09点。\n",
        "\n",
        "                沪深两市全天成交额11150亿元，北向资金净买入64.24亿元，其中沪股通净买入21.58亿元，深股通净买入42.66亿元。\n",
        "\n",
        "                根据申万二级行业分类，2023年4月14日共有66个行业上涨，其中，能源金属、半导体、电子化学品、工业金属、小金属涨幅居前;\n",
        "\n",
        "                58个行业下跌，酒店餐饮、旅游及景区、广告营销、互联网电商、数字媒体跌幅居前。\n",
        "\n",
        "                2023年4月14日，沪深A股共有2655家公司上涨，46家公司涨幅超10%(含)，华星创业、耐科装备、联动科技、拓荆科技、经纬辉开涨幅居前;\n",
        "\n",
        "                有2102家公司下跌，4家公司跌幅超10%(含)，登康口腔、值得买、奥飞娱乐、慈文传媒、金桥信息跌幅居前。\n",
        "\n",
        "            ''',\n",
        "            [\n",
        "                {\"industry_name\": \"能源金属\"},\n",
        "                {\"industry_name\": \"半导体\"},\n",
        "                {\"industry_name\": \"电子化学品\"},\n",
        "                {\"industry_name\": \"工业金属\"},\n",
        "                {\"industry_name\": \"小金属\"}\n",
        "            ],\n",
        "        ),\n",
        "        (\n",
        "            '''\n",
        "                传媒、游戏、数据确权、贵金属等板块涨幅居前，工业母机、白酒股等板块飘绿。\n",
        "            ''',\n",
        "            [\n",
        "                {\"industry_name\": \"传媒\"},\n",
        "                {\"industry_name\": \"游戏\"},\n",
        "                {\"industry_name\": \"数字确权\"},\n",
        "                {\"industry_name\": \"贵金属\"}\n",
        "            ],\n",
        "        )\n",
        "    ]\n",
        ")"
      ]
    },
    {
      "cell_type": "code",
      "execution_count": 84,
      "metadata": {},
      "outputs": [
        {
          "name": "stdout",
          "output_type": "stream",
          "text": [
            "{\n",
            "  \"stock_market\": [\n",
            "    {\n",
            "      \"industry_name\": \"旅游及景区\"\n",
            "    },\n",
            "    {\n",
            "      \"industry_name\": \"酒店餐饮\"\n",
            "    },\n",
            "    {\n",
            "      \"industry_name\": \"出版\"\n",
            "    },\n",
            "    {\n",
            "      \"industry_name\": \"教育\"\n",
            "    },\n",
            "    {\n",
            "      \"industry_name\": \"互联网电商\"\n",
            "    }\n",
            "  ]\n",
            "}\n"
          ]
        }
      ],
      "source": [
        "text='''\n",
        "    截至2023年4月13日收盘，上证指数收跌0.27%，报收3318.36点;深证成指跌1.21%，报收11739.84点;创业板指跌0.97%，报收2405.76点。\n",
        "\n",
        "    沪深两市全天成交额11369亿元，北向资金净卖出8688万元，其中沪股通净买入20.64亿元，深股通净卖出21.51亿元。\n",
        "\n",
        "    根据申万二级行业分类，2023年4月13日共有46个行业上涨，其中，旅游及景区、酒店餐饮、出版、教育、互联网电商涨幅居前;\n",
        "\n",
        "    78个行业下跌，通信设备、半导体、元件、消费电子、黑色家电跌幅居前。\n",
        "'''\n",
        "extraction_chain = create_extraction_chain(llm, stock_market_schema)\n",
        "output = extraction_chain.predict_and_parse(text=text)['data']\n",
        "\n",
        "json_dump(output)"
      ]
    },
    {
      "cell_type": "code",
      "execution_count": null,
      "metadata": {},
      "outputs": [],
      "source": []
    }
  ],
  "metadata": {
    "colab": {
      "authorship_tag": "ABX9TyM9UvOpcvHtzs9AC7xR1wdg",
      "include_colab_link": true,
      "provenance": []
    },
    "kernelspec": {
      "display_name": "Python 3",
      "name": "python3"
    },
    "language_info": {
      "codemirror_mode": {
        "name": "ipython",
        "version": 3
      },
      "file_extension": ".py",
      "mimetype": "text/x-python",
      "name": "python",
      "nbconvert_exporter": "python",
      "pygments_lexer": "ipython3",
      "version": "3.10.13"
    }
  },
  "nbformat": 4,
  "nbformat_minor": 0
}
