{
  "cells": [
    {
      "cell_type": "code",
      "execution_count": 12,
      "metadata": {
        "id": "CcSMVHBz6zrj"
      },
      "outputs": [],
      "source": [
        "from langchain import OpenAI\n",
        "from langchain.chains import ConversationChain\n",
        "from langchain.chains.conversation.memory import ConversationBufferMemory, ConversationSummaryMemory\n",
        "from langchain.callbacks import get_openai_callback"
      ]
    },
    {
      "cell_type": "code",
      "execution_count": 13,
      "metadata": {
        "id": "yozbiUy2_RCt"
      },
      "outputs": [],
      "source": [
        "def track_tokens_usage(chain, query):\n",
        "    with get_openai_callback() as cb:\n",
        "        result = chain.run(query)\n",
        "        print(f'Total tokens: {cb.total_tokens}')\n",
        "\n",
        "    return result\n"
      ]
    },
    {
      "cell_type": "code",
      "execution_count": null,
      "metadata": {},
      "outputs": [],
      "source": [
        "from dotenv import load_dotenv\n",
        "load_dotenv()"
      ]
    },
    {
      "cell_type": "code",
      "execution_count": 14,
      "metadata": {
        "colab": {
          "base_uri": "https://localhost:8080/",
          "height": 373
        },
        "id": "akq_I-dn-hpd",
        "outputId": "317e220b-914e-45b8-e1a8-ee92c838ad77"
      },
      "outputs": [],
      "source": [
        "llm = OpenAI(\n",
        "    temperature=0,\n",
        "\tmodel_name=\"text-davinci-003\"\n",
        ")"
      ]
    },
    {
      "cell_type": "code",
      "execution_count": 15,
      "metadata": {},
      "outputs": [],
      "source": [
        "conversation = ConversationChain(llm=llm, memory = ConversationSummaryMemory(llm=llm))"
      ]
    },
    {
      "cell_type": "code",
      "execution_count": 16,
      "metadata": {
        "id": "pEsc6-AF-riz"
      },
      "outputs": [
        {
          "name": "stdout",
          "output_type": "stream",
          "text": [
            "Progressively summarize the lines of conversation provided, adding onto the previous summary returning a new summary.\n",
            "\n",
            "EXAMPLE\n",
            "Current summary:\n",
            "The human asks what the AI thinks of artificial intelligence. The AI thinks artificial intelligence is a force for good.\n",
            "\n",
            "New lines of conversation:\n",
            "Human: Why do you think artificial intelligence is a force for good?\n",
            "AI: Because artificial intelligence will help humans reach their full potential.\n",
            "\n",
            "New summary:\n",
            "The human asks what the AI thinks of artificial intelligence. The AI thinks artificial intelligence is a force for good because it will help humans reach their full potential.\n",
            "END OF EXAMPLE\n",
            "\n",
            "Current summary:\n",
            "{summary}\n",
            "\n",
            "New lines of conversation:\n",
            "{new_lines}\n",
            "\n",
            "New summary:\n"
          ]
        }
      ],
      "source": [
        "print(conversation.memory.prompt.template)"
      ]
    },
    {
      "cell_type": "code",
      "execution_count": 17,
      "metadata": {
        "id": "rM_qZkMT_nw7"
      },
      "outputs": [
        {
          "name": "stdout",
          "output_type": "stream",
          "text": [
            "Total tokens: 560\n"
          ]
        },
        {
          "data": {
            "text/plain": [
              "\" That's an interesting topic! Ethereum is a decentralized platform that enables developers to create and deploy decentralized applications. It is built on a blockchain technology, which allows for secure and transparent transactions. To scale Ethereum, there are several options available. One option is to increase the block size, which would allow more transactions to be processed in each block. Another option is to use sharding, which would split the blockchain into multiple shards and allow for more transactions to be processed in parallel. Finally, there is the option of using off-chain solutions, such as sidechains or state channels, which would allow for transactions to be processed outside of the main blockchain.\""
            ]
          },
          "execution_count": 17,
          "metadata": {},
          "output_type": "execute_result"
        }
      ],
      "source": [
        "track_tokens_usage(conversation, \"My interest is to explore the options of scaling Ethereum\")\n"
      ]
    },
    {
      "cell_type": "code",
      "execution_count": 23,
      "metadata": {
        "id": "mCr8e21m_njK"
      },
      "outputs": [
        {
          "name": "stdout",
          "output_type": "stream",
          "text": [
            "Total tokens: 1468\n"
          ]
        },
        {
          "data": {
            "text/plain": [
              "' Sure! Sharding is a scaling solution that involves splitting the blockchain into multiple shards, each of which processes transactions in parallel. This allows for more transactions to be processed at the same time, increasing the scalability of the network.\\n\\nSharding is a concept that has been around for a while, but it has only recently been applied to blockchain technology. The idea is to divide the blockchain into multiple shards, each of which processes transactions independently. This allows for more transactions to be processed in parallel, increasing the scalability of the network.\\n\\nSharding is a complex process that requires careful planning and implementation. It involves splitting the blockchain into multiple shards, each of which processes transactions independently. This allows for more transactions to be processed in parallel, increasing the scalability of the network.\\n\\nThe first step in sharding is to divide the blockchain into multiple shards. This is done by dividing the blockchain into multiple parts, each of which processes transactions independently. This allows for more transactions to be processed in parallel, increasing the scalability of the network.\\n\\nThe second step is to create a consensus mechanism for each shard. This is done by creating a consensus mechanism for each shard, which is responsible for validating transactions and ensuring the integrity of the data'"
            ]
          },
          "execution_count": 23,
          "metadata": {},
          "output_type": "execute_result"
        }
      ],
      "source": [
        "track_tokens_usage(conversation, \"Could you please elaborate more on sharding? Try to use at least 1000 words.\")"
      ]
    },
    {
      "cell_type": "code",
      "execution_count": 19,
      "metadata": {},
      "outputs": [
        {
          "name": "stdout",
          "output_type": "stream",
          "text": [
            "Total tokens: 793\n"
          ]
        },
        {
          "data": {
            "text/plain": [
              "' Sure! There are several sharding projects currently in development for Ethereum. Some of the most popular ones include Ethereum 2.0, which is a major upgrade to the Ethereum network that will introduce sharding and other scalability improvements; Zilliqa, which is a blockchain platform that uses sharding to increase transaction throughput; and Polkadot, which is a blockchain interoperability platform that uses sharding to enable communication between different blockchains.'"
            ]
          },
          "execution_count": 19,
          "metadata": {},
          "output_type": "execute_result"
        }
      ],
      "source": [
        "track_tokens_usage(conversation, \"What are the cons of sharding?\")"
      ]
    },
    {
      "cell_type": "code",
      "execution_count": 20,
      "metadata": {},
      "outputs": [
        {
          "name": "stdout",
          "output_type": "stream",
          "text": [
            "Total tokens: 858\n"
          ]
        },
        {
          "data": {
            "text/plain": [
              "' State channels are a type of off-chain scaling solution that allows two or more parties to transact without having to broadcast the transaction to the entire blockchain. This allows for faster and cheaper transactions, as well as increased privacy. Examples of projects that use state channels include Raiden, Lightning Network, and Celer Network.'"
            ]
          },
          "execution_count": 20,
          "metadata": {},
          "output_type": "execute_result"
        }
      ],
      "source": [
        "track_tokens_usage(conversation, \"How about state channels?\")"
      ]
    },
    {
      "cell_type": "code",
      "execution_count": 21,
      "metadata": {},
      "outputs": [
        {
          "name": "stdout",
          "output_type": "stream",
          "text": [
            "Total tokens: 1035\n"
          ]
        },
        {
          "data": {
            "text/plain": [
              "' Sure! Popular state channel products include Raiden, Lightning Network, and Celer Network. Raiden is an open source scaling solution for Ethereum that allows for fast, cheap, and private payments. Lightning Network is a second-layer payment protocol that enables instant, low-cost, and secure payments on the Bitcoin blockchain. Finally, Celer Network is a layer-2 scaling platform that enables fast, secure, and low-cost off-chain transactions for any blockchain.'"
            ]
          },
          "execution_count": 21,
          "metadata": {},
          "output_type": "execute_result"
        }
      ],
      "source": [
        "track_tokens_usage(conversation, \"Show me some popular state channel products\")"
      ]
    },
    {
      "cell_type": "code",
      "execution_count": 22,
      "metadata": {},
      "outputs": [
        {
          "name": "stdout",
          "output_type": "stream",
          "text": [
            "\n",
            "The human is interested in exploring the options of scaling Ethereum. The AI finds this topic interesting and explains that Ethereum is a decentralized platform built on blockchain technology. To scale Ethereum, there are several options available such as increasing the block size, using sharding, or using off-chain solutions like sidechains or state channels. The AI further elaborates on sharding, which is a scaling solution that involves splitting the blockchain into multiple shards, each of which processes transactions in parallel, allowing for more transactions to be processed at the same time and increasing the scalability of the network. The AI then provides examples of sharding projects, such as Ethereum 2.0, Zilliqa, and Polkadot, and also explains state channels, which are a type of off-chain scaling solution that allows two or more parties to transact without having to broadcast the transaction to the entire blockchain. When asked for popular state channel products, the AI mentions Raiden, Lightning Network, and Celer Network, which are open source scaling solutions for Ethereum, Bitcoin, and any blockchain respectively, allowing for fast, cheap, and private payments.\n"
          ]
        }
      ],
      "source": [
        "print(conversation.memory.buffer)"
      ]
    }
  ],
  "metadata": {
    "colab": {
      "authorship_tag": "ABX9TyMr1K4oquJDHksnEw+MRPeP",
      "include_colab_link": true,
      "provenance": []
    },
    "kernelspec": {
      "display_name": "Python 3",
      "name": "python3"
    },
    "language_info": {
      "codemirror_mode": {
        "name": "ipython",
        "version": 3
      },
      "file_extension": ".py",
      "mimetype": "text/x-python",
      "name": "python",
      "nbconvert_exporter": "python",
      "pygments_lexer": "ipython3",
      "version": "3.10.13"
    }
  },
  "nbformat": 4,
  "nbformat_minor": 0
}
