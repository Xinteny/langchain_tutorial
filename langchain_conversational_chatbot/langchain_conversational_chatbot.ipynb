{
  "cells": [
    {
      "cell_type": "code",
      "execution_count": 1,
      "metadata": {
        "id": "CcSMVHBz6zrj"
      },
      "outputs": [],
      "source": [
        "from langchain import OpenAI\n",
        "from langchain.chains import ConversationChain\n",
        "from langchain.chains.conversation.memory import ConversationBufferMemory, ConversationSummaryMemory\n",
        "from langchain.callbacks import get_openai_callback"
      ]
    },
    {
      "cell_type": "code",
      "execution_count": 2,
      "metadata": {
        "id": "yozbiUy2_RCt"
      },
      "outputs": [],
      "source": [
        "def track_tokens_usage(chain, query):\n",
        "    with get_openai_callback() as cb:\n",
        "        result = chain.run(query)\n",
        "        print(f'Total tokens: {cb.total_tokens}')\n",
        "        print(f'Requests: {cb.successful_requests}')\n",
        "        print(f\"Total Cost (USD): ${cb.total_cost}\")\n",
        "\n",
        "    return result\n"
      ]
    },
    {
      "cell_type": "code",
      "execution_count": 3,
      "metadata": {},
      "outputs": [
        {
          "data": {
            "text/plain": [
              "True"
            ]
          },
          "execution_count": 3,
          "metadata": {},
          "output_type": "execute_result"
        }
      ],
      "source": [
        "from dotenv import load_dotenv\n",
        "load_dotenv()"
      ]
    },
    {
      "cell_type": "code",
      "execution_count": 4,
      "metadata": {
        "colab": {
          "base_uri": "https://localhost:8080/",
          "height": 373
        },
        "id": "akq_I-dn-hpd",
        "outputId": "317e220b-914e-45b8-e1a8-ee92c838ad77"
      },
      "outputs": [],
      "source": [
        "llm = OpenAI(\n",
        "    temperature=0,\n",
        "\tmodel_name=\"text-davinci-003\"\n",
        ")"
      ]
    },
    {
      "cell_type": "code",
      "execution_count": 5,
      "metadata": {},
      "outputs": [
        {
          "data": {
            "text/plain": [
              "'\\n\\nLangchain is a blockchain-based language learning platform that allows users to learn languages through a decentralized network. It uses a token-based system to reward users for their contributions to the network, such as creating content, providing feedback, and helping others learn. The platform also provides a marketplace for users to buy and sell language-related services and products.'"
            ]
          },
          "execution_count": 5,
          "metadata": {},
          "output_type": "execute_result"
        }
      ],
      "source": [
        "llm(\"What is Langchain?\")"
      ]
    },
    {
      "cell_type": "code",
      "execution_count": 6,
      "metadata": {},
      "outputs": [
        {
          "data": {
            "text/plain": [
              "'\\n\\nYou asked me what you just asked me.'"
            ]
          },
          "execution_count": 6,
          "metadata": {},
          "output_type": "execute_result"
        }
      ],
      "source": [
        "llm(\"What did I just ask you?\")"
      ]
    },
    {
      "cell_type": "code",
      "execution_count": 7,
      "metadata": {},
      "outputs": [],
      "source": [
        "conversation = ConversationChain(llm=llm, memory = ConversationBufferMemory())"
      ]
    },
    {
      "cell_type": "code",
      "execution_count": 8,
      "metadata": {
        "id": "pEsc6-AF-riz"
      },
      "outputs": [
        {
          "name": "stdout",
          "output_type": "stream",
          "text": [
            "The following is a friendly conversation between a human and an AI. The AI is talkative and provides lots of specific details from its context. If the AI does not know the answer to a question, it truthfully says it does not know.\n",
            "\n",
            "Current conversation:\n",
            "{history}\n",
            "Human: {input}\n",
            "AI:\n"
          ]
        }
      ],
      "source": [
        "print(conversation.prompt.template)"
      ]
    },
    {
      "cell_type": "code",
      "execution_count": 9,
      "metadata": {
        "id": "rM_qZkMT_nw7"
      },
      "outputs": [
        {
          "name": "stdout",
          "output_type": "stream",
          "text": [
            "Total tokens: 201\n",
            "Requests: 1\n",
            "Total Cost (USD): $0.00402\n"
          ]
        },
        {
          "data": {
            "text/plain": [
              "\" That's an interesting topic! Ethereum is a decentralized platform that enables developers to create and deploy decentralized applications. It is built on a blockchain technology, which allows for secure and transparent transactions. To scale Ethereum, there are several options available. One option is to increase the block size, which would allow more transactions to be processed in each block. Another option is to use sharding, which would split the blockchain into multiple shards and allow for more transactions to be processed in parallel. Finally, there is the option of using off-chain solutions, such as sidechains or state channels, which would allow for transactions to be processed outside of the main blockchain.\""
            ]
          },
          "execution_count": 9,
          "metadata": {},
          "output_type": "execute_result"
        }
      ],
      "source": [
        "track_tokens_usage(conversation, \"My interest is to explore the options of scaling Ethereum\")\n"
      ]
    },
    {
      "cell_type": "code",
      "execution_count": 10,
      "metadata": {
        "id": "mCr8e21m_njK"
      },
      "outputs": [
        {
          "name": "stdout",
          "output_type": "stream",
          "text": [
            "Total tokens: 480\n",
            "Requests: 1\n",
            "Total Cost (USD): $0.009600000000000001\n"
          ]
        },
        {
          "data": {
            "text/plain": [
              "' Sure! Sharding is a scaling solution for Ethereum that involves splitting the blockchain into multiple shards. Each shard is a separate blockchain that is connected to the main blockchain. This allows for more transactions to be processed in parallel, as each shard can process its own transactions independently.\\n\\nSharding is a relatively new concept, and it is still being developed and tested. It is expected to be implemented in Ethereum in the near future.\\n\\nThe main benefit of sharding is that it allows for more transactions to be processed in parallel. This means that the blockchain can process more transactions in a shorter amount of time, which can help to reduce transaction fees and improve scalability.\\n\\nSharding also has some drawbacks. For example, it can be difficult to ensure that all of the shards are in sync with each other. This means that if one shard is not in sync with the others, it could lead to inconsistencies in the data stored on the blockchain. Additionally, sharding can be difficult to implement, as it requires a lot of coordination between the different shards.\\n\\nSharding also requires a lot of computing power, as each shard needs to be able to process its own transactions. This means that the blockchain needs to have enough computing power to support'"
            ]
          },
          "execution_count": 10,
          "metadata": {},
          "output_type": "execute_result"
        }
      ],
      "source": [
        "track_tokens_usage(conversation, \"Could you please elaborate more on sharding? Try to use at least 1000 words.\")"
      ]
    },
    {
      "cell_type": "code",
      "execution_count": 11,
      "metadata": {},
      "outputs": [
        {
          "name": "stdout",
          "output_type": "stream",
          "text": [
            "Total tokens: 622\n",
            "Requests: 1\n",
            "Total Cost (USD): $0.012440000000000001\n"
          ]
        },
        {
          "data": {
            "text/plain": [
              "' The main drawbacks of sharding are that it can be difficult to ensure that all of the shards are in sync with each other, which can lead to inconsistencies in the data stored on the blockchain. Additionally, sharding can be difficult to implement, as it requires a lot of coordination between the different shards. Additionally, sharding requires a lot of computing power, as each shard needs to be able to process its own transactions. This means that the blockchain needs to have enough computing power to support all of the shards. Finally, sharding can also be expensive, as it requires a lot of resources to maintain and secure the shards.'"
            ]
          },
          "execution_count": 11,
          "metadata": {},
          "output_type": "execute_result"
        }
      ],
      "source": [
        "track_tokens_usage(conversation, \"What are the cons of sharding?\")"
      ]
    },
    {
      "cell_type": "code",
      "execution_count": 12,
      "metadata": {},
      "outputs": [
        {
          "name": "stdout",
          "output_type": "stream",
          "text": [
            "Total tokens: 845\n",
            "Requests: 1\n",
            "Total Cost (USD): $0.0169\n"
          ]
        },
        {
          "data": {
            "text/plain": [
              "' State channels are a type of off-chain solution that allow for transactions to be processed outside of the main blockchain. This means that transactions can be processed faster and with lower fees, as they do not need to be included in a block. Additionally, state channels can also be used to facilitate smart contracts, as they allow for two or more parties to interact with each other without having to go through the main blockchain.\\n\\nThe main benefit of state channels is that they allow for faster and cheaper transactions. Additionally, they can also be used to facilitate smart contracts, as they allow for two or more parties to interact with each other without having to go through the main blockchain.\\n\\nThe main drawbacks of state channels are that they can be difficult to implement, as they require a lot of coordination between the different parties. Additionally, they can also be expensive, as they require a lot of resources to maintain and secure the channels. Finally, state channels are not as secure as the main blockchain, as they are not protected by the same level of security.'"
            ]
          },
          "execution_count": 12,
          "metadata": {},
          "output_type": "execute_result"
        }
      ],
      "source": [
        "track_tokens_usage(conversation, \"How about state channels?\")"
      ]
    },
    {
      "cell_type": "code",
      "execution_count": 14,
      "metadata": {},
      "outputs": [
        {
          "name": "stdout",
          "output_type": "stream",
          "text": [
            "Total tokens: 926\n",
            "Requests: 1\n",
            "Total Cost (USD): $0.018520000000000002\n"
          ]
        },
        {
          "data": {
            "text/plain": [
              "'  Some popular state channel products include Raiden, Counterfactual, and Connext. Raiden is an open-source protocol that allows for fast and secure payments on the Ethereum blockchain. Counterfactual is a framework for building decentralized applications on Ethereum. Finally, Connext is a platform for building and deploying decentralized applications on Ethereum.'"
            ]
          },
          "execution_count": 14,
          "metadata": {},
          "output_type": "execute_result"
        }
      ],
      "source": [
        "track_tokens_usage(conversation, \"Show me some popular state channel products\")"
      ]
    },
    {
      "cell_type": "code",
      "execution_count": 15,
      "metadata": {},
      "outputs": [
        {
          "name": "stdout",
          "output_type": "stream",
          "text": [
            "Human: My interest is to explore the options of scaling Ethereum\n",
            "AI:  That's an interesting topic! Ethereum is a decentralized platform that enables developers to create and deploy decentralized applications. It is built on a blockchain technology, which allows for secure and transparent transactions. To scale Ethereum, there are several options available. One option is to increase the block size, which would allow more transactions to be processed in each block. Another option is to use sharding, which would split the blockchain into multiple shards and allow for more transactions to be processed in parallel. Finally, there is the option of using off-chain solutions, such as sidechains or state channels, which would allow for transactions to be processed outside of the main blockchain.\n",
            "Human: Could you please elaborate more on sharding? Try to use at least 1000 words.\n",
            "AI:  Sure! Sharding is a scaling solution for Ethereum that involves splitting the blockchain into multiple shards. Each shard is a separate blockchain that is connected to the main blockchain. This allows for more transactions to be processed in parallel, as each shard can process its own transactions independently.\n",
            "\n",
            "Sharding is a relatively new concept, and it is still being developed and tested. It is expected to be implemented in Ethereum in the near future.\n",
            "\n",
            "The main benefit of sharding is that it allows for more transactions to be processed in parallel. This means that the blockchain can process more transactions in a shorter amount of time, which can help to reduce transaction fees and improve scalability.\n",
            "\n",
            "Sharding also has some drawbacks. For example, it can be difficult to ensure that all of the shards are in sync with each other. This means that if one shard is not in sync with the others, it could lead to inconsistencies in the data stored on the blockchain. Additionally, sharding can be difficult to implement, as it requires a lot of coordination between the different shards.\n",
            "\n",
            "Sharding also requires a lot of computing power, as each shard needs to be able to process its own transactions. This means that the blockchain needs to have enough computing power to support\n",
            "Human: What are the cons of sharding?\n",
            "AI:  The main drawbacks of sharding are that it can be difficult to ensure that all of the shards are in sync with each other, which can lead to inconsistencies in the data stored on the blockchain. Additionally, sharding can be difficult to implement, as it requires a lot of coordination between the different shards. Additionally, sharding requires a lot of computing power, as each shard needs to be able to process its own transactions. This means that the blockchain needs to have enough computing power to support all of the shards. Finally, sharding can also be expensive, as it requires a lot of resources to maintain and secure the shards.\n",
            "Human: How about state channels?\n",
            "AI:  State channels are a type of off-chain solution that allow for transactions to be processed outside of the main blockchain. This means that transactions can be processed faster and with lower fees, as they do not need to be included in a block. Additionally, state channels can also be used to facilitate smart contracts, as they allow for two or more parties to interact with each other without having to go through the main blockchain.\n",
            "\n",
            "The main benefit of state channels is that they allow for faster and cheaper transactions. Additionally, they can also be used to facilitate smart contracts, as they allow for two or more parties to interact with each other without having to go through the main blockchain.\n",
            "\n",
            "The main drawbacks of state channels are that they can be difficult to implement, as they require a lot of coordination between the different parties. Additionally, they can also be expensive, as they require a lot of resources to maintain and secure the channels. Finally, state channels are not as secure as the main blockchain, as they are not protected by the same level of security.\n",
            "Human: Show me some popular state channel products\n",
            "AI:   Some popular state channel products include Raiden, Counterfactual, and Connext. Raiden is an open-source protocol that allows for fast and secure payments on the Ethereum blockchain. Counterfactual is a framework for building decentralized applications on Ethereum. Finally, Connext is a platform for building and deploying decentralized applications on Ethereum.\n"
          ]
        }
      ],
      "source": [
        "print(conversation.memory.buffer)"
      ]
    }
  ],
  "metadata": {
    "colab": {
      "authorship_tag": "ABX9TyMr1K4oquJDHksnEw+MRPeP",
      "include_colab_link": true,
      "provenance": []
    },
    "kernelspec": {
      "display_name": "Python 3",
      "name": "python3"
    },
    "language_info": {
      "codemirror_mode": {
        "name": "ipython",
        "version": 3
      },
      "file_extension": ".py",
      "mimetype": "text/x-python",
      "name": "python",
      "nbconvert_exporter": "python",
      "pygments_lexer": "ipython3",
      "version": "3.10.13"
    }
  },
  "nbformat": 4,
  "nbformat_minor": 0
}
