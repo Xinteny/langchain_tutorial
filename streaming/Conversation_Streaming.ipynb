{
  "cells": [
    {
      "cell_type": "code",
      "execution_count": 6,
      "metadata": {
        "id": "CcSMVHBz6zrj"
      },
      "outputs": [],
      "source": [
        "from langchain import OpenAI\n",
        "# from langchain.callbacks import get_openai_callback\n",
        "# from langchain.callbacks.base import BaseCallbackManager\n",
        "# from langchain.callbacks.streaming_stdout import StreamingStdOutCallbackHandler"
      ]
    },
    {
      "cell_type": "code",
      "execution_count": 7,
      "metadata": {},
      "outputs": [
        {
          "data": {
            "text/plain": [
              "True"
            ]
          },
          "execution_count": 7,
          "metadata": {},
          "output_type": "execute_result"
        }
      ],
      "source": [
        "from dotenv import load_dotenv\n",
        "load_dotenv()"
      ]
    },
    {
      "cell_type": "code",
      "execution_count": 8,
      "metadata": {
        "colab": {
          "base_uri": "https://localhost:8080/",
          "height": 373
        },
        "id": "akq_I-dn-hpd",
        "outputId": "317e220b-914e-45b8-e1a8-ee92c838ad77"
      },
      "outputs": [],
      "source": [
        "llm = OpenAI(\n",
        "    temperature=0,\n",
        "\tmodel_name=\"text-davinci-003\",\n",
        "    # callback_manager=BaseCallbackManager([StreamingStdOutCallbackHandler()]),\n",
        "    # verbose=True,\n",
        "    # streaming=True\n",
        ")"
      ]
    },
    {
      "cell_type": "code",
      "execution_count": null,
      "metadata": {},
      "outputs": [],
      "source": [
        "for chunk in llm.stream(\"Please write an English poem with 50 lines and 10 syllables per line.\"):\n",
        "    print(chunk, end=\"\", flush=True)"
      ]
    },
    {
      "cell_type": "code",
      "execution_count": 10,
      "metadata": {},
      "outputs": [
        {
          "name": "stdout",
          "output_type": "stream",
          "text": [
            "\n",
            "\n",
            "The sun is shining bright,\n",
            "A new day is in sight,\n",
            "The birds are singing sweet,\n",
            "A gentle breeze on my feet.\n",
            "\n",
            "The sky is so blue,\n",
            "The clouds are so few,\n",
            "The trees are so tall,\n",
            "The flowers so small.\n",
            "\n",
            "The grass is so green,\n",
            "The air is so clean,\n",
            "The lake is so still,\n",
            "The mountains so high on the hill.\n",
            "\n",
            "The sky is so vast,\n",
            "The stars are so bright,\n",
            "The moon is so full,\n",
            "The night is so still.\n",
            "\n",
            "The sun is so warm,\n",
            "The clouds are so white,\n",
            "The wind is so gentle,\n",
            "The rain is so light.\n",
            "\n",
            "The birds are so chirpy,\n",
            "The trees are so leafy,\n",
            "The flowers are so fragrant,\n",
            "The sky is so pleasant.\n",
            "\n",
            "The sun is so bright,\n",
            "The moon is so round,\n",
            "The stars are so twinkling,\n",
            "The night is so sound.\n",
            "\n",
            "The day is so long,\n",
            "The night is so short,\n",
            "The sun is so hot,\n",
            "The moon is so cold.\n",
            "\n",
            "The birds are so cheerful,\n",
            "The trees are so tall,"
          ]
        }
      ],
      "source": [
        "response = llm(\"Please write an English poem with 50 lines and 10 syllables per line.\")"
      ]
    }
  ],
  "metadata": {
    "colab": {
      "authorship_tag": "ABX9TyMr1K4oquJDHksnEw+MRPeP",
      "include_colab_link": true,
      "provenance": []
    },
    "kernelspec": {
      "display_name": "Python 3",
      "name": "python3"
    },
    "language_info": {
      "codemirror_mode": {
        "name": "ipython",
        "version": 3
      },
      "file_extension": ".py",
      "mimetype": "text/x-python",
      "name": "python",
      "nbconvert_exporter": "python",
      "pygments_lexer": "ipython3",
      "version": "3.10.13"
    }
  },
  "nbformat": 4,
  "nbformat_minor": 0
}
