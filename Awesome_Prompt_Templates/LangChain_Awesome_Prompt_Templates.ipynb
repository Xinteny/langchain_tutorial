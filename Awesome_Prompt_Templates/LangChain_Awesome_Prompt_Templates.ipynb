{
  "cells": [
    {
      "cell_type": "code",
      "execution_count": 2,
      "metadata": {
        "id": "hs6f_anu1UT9"
      },
      "outputs": [
        {
          "data": {
            "text/plain": [
              "'请给我讲个笑话'"
            ]
          },
          "execution_count": 2,
          "metadata": {},
          "output_type": "execute_result"
        }
      ],
      "source": [
        "from langchain.prompts import PromptTemplate\n",
        "\n",
        "no_input_prompt = PromptTemplate(input_variables=[], template=\"请给我讲个笑话\")\n",
        "no_input_prompt.format()"
      ]
    },
    {
      "cell_type": "code",
      "execution_count": 3,
      "metadata": {
        "id": "HSnp2k4N1cm5"
      },
      "outputs": [
        {
          "data": {
            "text/plain": [
              "'请给我讲个有趣的笑话.'"
            ]
          },
          "execution_count": 3,
          "metadata": {},
          "output_type": "execute_result"
        }
      ],
      "source": [
        "one_input_prompt = PromptTemplate(input_variables=[\"adjective\"], template=\"请给我讲个{adjective}的笑话.\")\n",
        "one_input_prompt.format(adjective=\"有趣\")"
      ]
    },
    {
      "cell_type": "code",
      "execution_count": 5,
      "metadata": {
        "id": "Z-VhLnyG2Ga-"
      },
      "outputs": [
        {
          "data": {
            "text/plain": [
              "'请给我讲个关于猪八戒的有趣的笑话.'"
            ]
          },
          "execution_count": 5,
          "metadata": {},
          "output_type": "execute_result"
        }
      ],
      "source": [
        "multiple_input_prompt = PromptTemplate(\n",
        "    input_variables=[\"adjective\", \"content\"], \n",
        "    template=\"请给我讲个关于{content}的{adjective}的笑话.\"\n",
        ")\n",
        "multiple_input_prompt.format(adjective=\"有趣\", content=\"猪八戒\")"
      ]
    },
    {
      "cell_type": "code",
      "execution_count": 6,
      "metadata": {
        "id": "JKddTSPG2tmn"
      },
      "outputs": [
        {
          "data": {
            "text/plain": [
              "True"
            ]
          },
          "execution_count": 6,
          "metadata": {},
          "output_type": "execute_result"
        }
      ],
      "source": [
        "from dotenv import load_dotenv\n",
        "load_dotenv()"
      ]
    },
    {
      "cell_type": "code",
      "execution_count": 20,
      "metadata": {
        "id": "ufGsJC5-2nVV"
      },
      "outputs": [
        {
          "name": "stdout",
          "output_type": "stream",
          "text": [
            "\n",
            "\n",
            "猪八戒去买衣服，看到一件灰色的衣服，他问店员：“这件衣服是什么颜色？”店员说：“这是灰色的。”猪八戒说：“那我就买了，这样我就可以把它穿在任何地方，都不会被人发现。”\n"
          ]
        }
      ],
      "source": [
        "from langchain.llms.openai import OpenAI\n",
        "\n",
        "openai = OpenAI(temperature=0)\n",
        "\n",
        "print(openai(multiple_input_prompt.format(adjective=\"灰色幽默\", content=\"猪八戒\")))"
      ]
    },
    {
      "cell_type": "code",
      "execution_count": 21,
      "metadata": {
        "id": "9vje4Xu2lTrK"
      },
      "outputs": [
        {
          "name": "stdout",
          "output_type": "stream",
          "text": [
            " New York is located in the Northeastern United States, on the coast of the Atlantic Ocean.\n"
          ]
        }
      ],
      "source": [
        "prompt = \"\"\"The following are exerpts from conversations with an AI\n",
        "assistant. The assistant is speaking like a famous movie character.\n",
        "\n",
        "User: Where is New York?\n",
        "AI: \"\"\"\n",
        "\n",
        "print(openai(prompt))"
      ]
    },
    {
      "cell_type": "code",
      "execution_count": 22,
      "metadata": {
        "id": "g7r0UyAwfwes"
      },
      "outputs": [],
      "source": [
        "examples = [\n",
        "    {\n",
        "        \"query\": \"What sports do you play?\",\n",
        "        \"answer\": \"Soccer, I play.\"\n",
        "    }, {\n",
        "        \"query\": \"Where is this?\",\n",
        "        \"answer\": \"My home, this is.\"\n",
        "    }, {\n",
        "        \"query\": \"Are you leaving now?\",\n",
        "        \"answer\": \"Stay and help you, I will.\"\n",
        "    }, {\n",
        "        \"query\": \"How are you feeling?\",\n",
        "        \"answer\": \"Great I feel.\"\n",
        "    }\n",
        "]"
      ]
    },
    {
      "cell_type": "code",
      "execution_count": 23,
      "metadata": {
        "id": "BbdUw-tZgIOJ"
      },
      "outputs": [
        {
          "name": "stdout",
          "output_type": "stream",
          "text": [
            "The following are exerpts from conversations with an AI\n",
            "assistant. The assistant is speaking like a famous movie character.\n",
            "\n",
            "Here are some examples:\n",
            "\n",
            "\n",
            "\n",
            "Human: What sports do you play?\n",
            "AI: Soccer, I play.\n",
            "\n",
            "\n",
            "\n",
            "Human: Where is this?\n",
            "AI: My home, this is.\n",
            "\n",
            "\n",
            "\n",
            "Human: Are you leaving now?\n",
            "AI: Stay and help you, I will.\n",
            "\n",
            "\n",
            "\n",
            "Human: How are you feeling?\n",
            "AI: Great I feel.\n",
            "\n",
            "\n",
            "\n",
            "Human: Where is New York?\n",
            "AI: \n"
          ]
        }
      ],
      "source": [
        "example_template = \"\"\"\n",
        "Human: {query}\n",
        "AI: {answer}\n",
        "\"\"\"\n",
        "\n",
        "example_prompt = PromptTemplate(\n",
        "    input_variables=[\"query\", \"answer\"],\n",
        "    template=example_template\n",
        ")\n",
        "\n",
        "prefix = \"\"\"The following are exerpts from conversations with an AI\n",
        "assistant. The assistant is speaking like a famous movie character.\n",
        "\n",
        "Here are some examples:\n",
        "\"\"\"\n",
        "\n",
        "suffix = \"\"\"\n",
        "Human: {query}\n",
        "AI: \"\"\"\n",
        "\n",
        "from langchain import FewShotPromptTemplate\n",
        "few_shot_prompt_template = FewShotPromptTemplate(\n",
        "    examples=examples,\n",
        "    example_prompt=example_prompt,\n",
        "    prefix=prefix,\n",
        "    suffix=suffix,\n",
        "    input_variables=[\"query\"],\n",
        "    example_separator=\"\\n\\n\"\n",
        ")\n",
        "\n",
        "print(few_shot_prompt_template.format(query=\"Where is New York?\"))"
      ]
    },
    {
      "cell_type": "code",
      "execution_count": 24,
      "metadata": {
        "id": "O39-6MO1mjnV"
      },
      "outputs": [
        {
          "name": "stdout",
          "output_type": "stream",
          "text": [
            " Far away, New York is.\n"
          ]
        }
      ],
      "source": [
        "openai = OpenAI(temperature=0, openai_api_key=OPENAI_API_KEY)\n",
        "print(openai(few_shot_prompt_template.format(query=\"Where is New York?\")))"
      ]
    },
    {
      "cell_type": "code",
      "execution_count": 27,
      "metadata": {
        "id": "0bXN6SU_mwaY"
      },
      "outputs": [],
      "source": [
        "from langchain.prompts.example_selector import LengthBasedExampleSelector\n",
        "\n",
        "example_template = \"\"\"\n",
        "Human: {query}\n",
        "AI: {answer}\n",
        "\"\"\"\n",
        "\n",
        "example_prompt = PromptTemplate(\n",
        "    input_variables=[\"query\", \"answer\"],\n",
        "    template=example_template\n",
        ")\n",
        "\n",
        "example_selector = LengthBasedExampleSelector(\n",
        "    examples=examples,\n",
        "    example_prompt=example_prompt,\n",
        "    max_length=30\n",
        ")"
      ]
    },
    {
      "cell_type": "code",
      "execution_count": 28,
      "metadata": {
        "id": "ZeqJ1UYYnCdd"
      },
      "outputs": [
        {
          "name": "stdout",
          "output_type": "stream",
          "text": [
            "The following are exerpts from conversations with an AI\n",
            "assistant. The assistant is speaking like a famous movie character.\n",
            "\n",
            "Here are some examples:\n",
            "\n",
            "\n",
            "Human: What sports do you play?\n",
            "AI: Soccer, I play.\n",
            "\n",
            "\n",
            "Human: Where is this?\n",
            "AI: My home, this is.\n",
            "\n",
            "\n",
            "Human: Where is New York?\n",
            "AI: \n"
          ]
        }
      ],
      "source": [
        "few_shot_prompt_template = FewShotPromptTemplate(\n",
        "    example_selector=example_selector,\n",
        "    example_prompt=example_prompt,\n",
        "    prefix=prefix,\n",
        "    suffix=suffix,\n",
        "    input_variables=[\"query\"],\n",
        "    example_separator=\"\\n\"\n",
        ")\n",
        "print(few_shot_prompt_template.format(query=\"Where is New York?\"))"
      ]
    }
  ],
  "metadata": {
    "colab": {
      "authorship_tag": "ABX9TyMH5D/e0j5eB5AHW7slj5aa",
      "include_colab_link": true,
      "provenance": []
    },
    "kernelspec": {
      "display_name": "Python 3",
      "name": "python3"
    },
    "language_info": {
      "codemirror_mode": {
        "name": "ipython",
        "version": 3
      },
      "file_extension": ".py",
      "mimetype": "text/x-python",
      "name": "python",
      "nbconvert_exporter": "python",
      "pygments_lexer": "ipython3",
      "version": "3.10.13"
    }
  },
  "nbformat": 4,
  "nbformat_minor": 0
}
