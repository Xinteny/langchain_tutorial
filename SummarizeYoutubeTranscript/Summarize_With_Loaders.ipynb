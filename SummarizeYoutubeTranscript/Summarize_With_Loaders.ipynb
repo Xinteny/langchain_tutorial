{
  "cells": [
    {
      "attachments": {},
      "cell_type": "markdown",
      "metadata": {},
      "source": [
        "# Introduction\n",
        "\n",
        "This is an example that shows you how to use document loaders to summarize the following resources:\n",
        "1. URL\n",
        "2. PowerPoint\n",
        "3. ReadTheDocs site\n",
        "4. PDF"
      ]
    },
    {
      "cell_type": "code",
      "execution_count": 67,
      "metadata": {
        "id": "5lZp3p97vZPy"
      },
      "outputs": [],
      "source": [
        "import os\n",
        "from langchain.document_loaders import UnstructuredURLLoader, UnstructuredPowerPointLoader, ReadTheDocsLoader, PyPDFLoader\n",
        "from langchain.llms import OpenAI\n",
        "from langchain.chains.summarize import load_summarize_chain\n",
        "from langchain.callbacks import get_openai_callback\n",
        "from langchain.text_splitter import RecursiveCharacterTextSplitter"
      ]
    },
    {
      "cell_type": "code",
      "execution_count": 68,
      "metadata": {},
      "outputs": [],
      "source": [
        "def summarize_docs(docs, doc_url):\n",
        "    print (f'You have {len(docs)} document(s) in your {doc_url} data')\n",
        "    print (f'There are {len(docs[0].page_content)} characters in your document')\n",
        "\n",
        "    text_splitter = RecursiveCharacterTextSplitter(chunk_size=1000, chunk_overlap=0)\n",
        "    split_docs = text_splitter.split_documents(docs)\n",
        "\n",
        "    print (f'You have {len(split_docs)} split document(s)')\n",
        "\n",
        "    OPENAI_API_KEY = os.environ['OPENAI_API_KEY']\n",
        "    llm = OpenAI(temperature=0, openai_api_key=OPENAI_API_KEY, model_name=\"text-davinci-003\")\n",
        "    chain = load_summarize_chain(llm, chain_type=\"map_reduce\", verbose=False)\n",
        "\n",
        "    response = \"\"\n",
        "    with get_openai_callback() as cb:\n",
        "        response = chain.run(input_documents=split_docs)\n",
        "        print(f\"Total Tokens: {cb.total_tokens}\")\n",
        "        print(f\"Prompt Tokens: {cb.prompt_tokens}\")\n",
        "        print(f\"Completion Tokens: {cb.completion_tokens}\")\n",
        "        print(f\"Successful Requests: {cb.successful_requests}\")\n",
        "        print(f\"Total Cost (USD): ${cb.total_cost}\")\n",
        "\n",
        "    return response"
      ]
    },
    {
      "attachments": {},
      "cell_type": "markdown",
      "metadata": {},
      "source": [
        "1. Load a web page by its URL and get its content summarized."
      ]
    },
    {
      "cell_type": "code",
      "execution_count": 69,
      "metadata": {},
      "outputs": [
        {
          "name": "stdout",
          "output_type": "stream",
          "text": [
            "You have 1 document(s) in your https://edition.cnn.com/2023/04/13/business/delta-earnings/index.html data\n",
            "There are 2780 characters in your document\n",
            "You have 4 split document(s)\n",
            "Total Tokens: 1416\n",
            "Prompt Tokens: 980\n",
            "Completion Tokens: 436\n",
            "Successful Requests: 2\n",
            "Total Cost (USD): $0.02832\n"
          ]
        },
        {
          "data": {
            "text/plain": [
              "' Delta Airlines reported record advanced bookings for the summer, indicating a recovery from pandemic-related losses. Despite a one-time charge of $864 million related to a four-year labor deal with pilots, the company reported a net profit when excluding special items. Revenue was up 45% from a year earlier and 14% from the same period in 2019. Additionally, a passenger was taken into custody after opening a door of a Boeing 737 and deploying an emergency exit slide at Los Angeles International Airport. Delta Airlines is expecting earnings per share of between $2 and $2.25, and between $5 and $6 for the full year. Other major US airlines are likely to face rising labor costs due to upcoming negotiations with a majority of their employees.'"
            ]
          },
          "execution_count": 69,
          "metadata": {},
          "output_type": "execute_result"
        }
      ],
      "source": [
        "url = \"https://edition.cnn.com/2023/04/13/business/delta-earnings/index.html\"\n",
        "summarize_docs(UnstructuredURLLoader(urls = [url]).load(), url)"
      ]
    },
    {
      "attachments": {},
      "cell_type": "markdown",
      "metadata": {},
      "source": [
        "2. Load PowerPoint file and get its content summarized."
      ]
    },
    {
      "cell_type": "code",
      "execution_count": 70,
      "metadata": {},
      "outputs": [
        {
          "name": "stdout",
          "output_type": "stream",
          "text": [
            "--2023-04-13 23:38:31--  https://github.com/tomw1808/truffle_eth_class2/blob/master/s08/Web3-intro.pptx?raw=true\n",
            "Resolving github.com (github.com)... 140.82.121.4\n",
            "Connecting to github.com (github.com)|140.82.121.4|:443... connected.\n",
            "HTTP request sent, awaiting response... 302 Found\n",
            "Location: https://github.com/tomw1808/truffle_eth_class2/raw/master/s08/Web3-intro.pptx [following]\n",
            "--2023-04-13 23:38:31--  https://github.com/tomw1808/truffle_eth_class2/raw/master/s08/Web3-intro.pptx\n",
            "Reusing existing connection to github.com:443.\n",
            "HTTP request sent, awaiting response... 302 Found\n",
            "Location: https://raw.githubusercontent.com/tomw1808/truffle_eth_class2/master/s08/Web3-intro.pptx [following]\n",
            "--2023-04-13 23:38:31--  https://raw.githubusercontent.com/tomw1808/truffle_eth_class2/master/s08/Web3-intro.pptx\n",
            "Resolving raw.githubusercontent.com (raw.githubusercontent.com)... 2606:50c0:8000::154, 2606:50c0:8002::154, 2606:50c0:8001::154, ...\n",
            "Connecting to raw.githubusercontent.com (raw.githubusercontent.com)|2606:50c0:8000::154|:443... connected.\n",
            "HTTP request sent, awaiting response... 200 OK\n",
            "Length: 2598023 (2.5M) [application/octet-stream]\n",
            "Saving to: ‘Web3-intro.pptx’\n",
            "\n",
            "Web3-intro.pptx     100%[===================>]   2.48M  6.63MB/s    in 0.4s    \n",
            "\n",
            "2023-04-13 23:38:32 (6.63 MB/s) - ‘Web3-intro.pptx’ saved [2598023/2598023]\n",
            "\n"
          ]
        }
      ],
      "source": [
        "\n",
        "!wget \"https://github.com/tomw1808/truffle_eth_class2/blob/master/s08/Web3-intro.pptx?raw=true\" -O Web3-intro.pptx"
      ]
    },
    {
      "cell_type": "code",
      "execution_count": 71,
      "metadata": {},
      "outputs": [
        {
          "name": "stdout",
          "output_type": "stream",
          "text": [
            "You have 1 document(s) in your Web3-intro.pptx data\n",
            "There are 864 characters in your document\n",
            "You have 1 split document(s)\n",
            "Total Tokens: 531\n",
            "Prompt Tokens: 408\n",
            "Completion Tokens: 123\n",
            "Successful Requests: 2\n",
            "Total Cost (USD): $0.01062\n",
            " Web3 is a Javascript library that enables users to interact with the blockchain via the json-RPC interface. It connects the browser to the blockchain via port 8545 and provides practical examples such as connecting to the Ethereum Wiki and getting the balance of an account.\n"
          ]
        }
      ],
      "source": [
        "loader = UnstructuredPowerPointLoader(\"Web3-intro.pptx\")\n",
        "response = summarize_docs(loader.load(), \"Web3-intro.pptx\")\n",
        "print(response)"
      ]
    },
    {
      "attachments": {},
      "cell_type": "markdown",
      "metadata": {},
      "source": [
        "3. Load readthedocs project and get its content summarized."
      ]
    },
    {
      "cell_type": "code",
      "execution_count": 72,
      "metadata": {},
      "outputs": [
        {
          "name": "stdout",
          "output_type": "stream",
          "text": [
            "--2023-04-13 23:42:04--  https://langchain.readthedocs.io/en/latest/\n",
            "Resolving langchain.readthedocs.io (langchain.readthedocs.io)... 2606:4700::6811:2152, 2606:4700::6811:2052, 104.17.32.82, ...\n",
            "Connecting to langchain.readthedocs.io (langchain.readthedocs.io)|2606:4700::6811:2152|:443... connected.\n",
            "HTTP request sent, awaiting response... 302 Found\n",
            "Location: https://python.langchain.com/en/latest/ [following]\n",
            "--2023-04-13 23:42:04--  https://python.langchain.com/en/latest/\n",
            "Resolving python.langchain.com (python.langchain.com)... 2606:4700::6811:2052, 2606:4700::6811:2152, 104.17.32.82, ...\n",
            "Connecting to python.langchain.com (python.langchain.com)|2606:4700::6811:2052|:443... connected.\n",
            "HTTP request sent, awaiting response... 200 OK\n",
            "Length: unspecified [text/html]\n",
            "Saving to: ‘langchain/langchain.readthedocs.io/en/latest/index.html’\n",
            "\n",
            "langchain.readthedo     [ <=>                ]  78.21K  --.-KB/s    in 0.05s   \n",
            "\n",
            "2023-04-13 23:42:04 (1.62 MB/s) - ‘langchain/langchain.readthedocs.io/en/latest/index.html’ saved [80091]\n",
            "\n",
            "FINISHED --2023-04-13 23:42:04--\n",
            "Total wall clock time: 0.5s\n",
            "Downloaded: 1 files, 78K in 0.05s (1.62 MB/s)\n"
          ]
        }
      ],
      "source": [
        "!wget -r -A.html -P langchain \"https://langchain.readthedocs.io/en/latest/\""
      ]
    },
    {
      "cell_type": "code",
      "execution_count": 73,
      "metadata": {},
      "outputs": [
        {
          "name": "stdout",
          "output_type": "stream",
          "text": [
            "You have 1 document(s) in your langchain data\n",
            "There are 5350 characters in your document\n",
            "You have 6 split document(s)\n",
            "Total Tokens: 2123\n",
            "Prompt Tokens: 1644\n",
            "Completion Tokens: 479\n",
            "Successful Requests: 2\n",
            "Total Cost (USD): $0.04246\n"
          ]
        },
        {
          "data": {
            "text/plain": [
              "' LangChain is a framework for developing applications powered by language models. It provides modules for models, prompts, memory, indexes, and chains, as well as resources such as the LangChainHub, a glossary, a gallery, deployments, and tracing guides. ModelLaboratory is a platform that makes it easy to experiment with different prompts, models, and chains. There is a Discord to discuss LangChain, and production support is available with a dedicated Slack channel. The Quickstart Guide provides information on getting started, modules, use cases, reference docs, LangChain Ecosystem, and additional resources.'"
            ]
          },
          "execution_count": 73,
          "metadata": {},
          "output_type": "execute_result"
        }
      ],
      "source": [
        "loader = ReadTheDocsLoader(\"langchain\")\n",
        "summarize_docs(loader.load(), \"langchain\")"
      ]
    },
    {
      "attachments": {},
      "cell_type": "markdown",
      "metadata": {},
      "source": [
        "4. Load PDF file by URL and get its content summarized."
      ]
    },
    {
      "cell_type": "code",
      "execution_count": 74,
      "metadata": {},
      "outputs": [
        {
          "name": "stdout",
          "output_type": "stream",
          "text": [
            "--2023-04-13 23:45:16--  https://ir.tesla.com/_flysystem/s3/sec/000095017023001409/tsla-20221231-gen.pdf\n",
            "Resolving ir.tesla.com (ir.tesla.com)... 2a02:26f0:9b00:39d::700, 2a02:26f0:9b00:393::700, 92.122.160.52\n",
            "Connecting to ir.tesla.com (ir.tesla.com)|2a02:26f0:9b00:39d::700|:443... connected.\n",
            "HTTP request sent, awaiting response... 200 OK\n",
            "Length: unspecified [application/pdf]\n",
            "Saving to: ‘tsla-20221231-gen.pdf’\n",
            "\n",
            "tsla-20221231-gen.p     [  <=>               ]   1.57M  5.48MB/s    in 0.3s    \n",
            "\n",
            "2023-04-13 23:45:17 (5.48 MB/s) - ‘tsla-20221231-gen.pdf’ saved [1650825]\n",
            "\n"
          ]
        }
      ],
      "source": [
        "!wget \"https://ir.tesla.com/_flysystem/s3/sec/000095017023001409/tsla-20221231-gen.pdf\" -O tsla-20221231-gen.pdf"
      ]
    },
    {
      "cell_type": "code",
      "execution_count": 76,
      "metadata": {},
      "outputs": [
        {
          "name": "stdout",
          "output_type": "stream",
          "text": [
            "You have 10 document(s) in your tsla-20221231-gen.pdf data\n",
            "There are 3793 characters in your document\n",
            "You have 30 split document(s)\n",
            "Total Tokens: 14889\n",
            "Prompt Tokens: 12541\n",
            "Completion Tokens: 2348\n",
            "Successful Requests: 2\n",
            "Total Cost (USD): $0.29778\n"
          ]
        },
        {
          "data": {
            "text/plain": [
              "\" Tesla, Inc. has released its annual report on Form 10-K for the year ended December 31, 2022. The report includes information on the company's business, risk factors, unresolved staff comments, properties, legal proceedings, mine safety disclosures, market for the company's common equity, management's discussion and analysis of financial condition and results of operations, quantitative and qualitative disclosures about market risk, financial statements and supplementary data, changes in and disagreements with accountants on accounting and financial disclosure, controls and procedures, other information, and disclosure regarding foreign jurisdictions that prevent inspections. Tesla designs, develops, manufactures, sells, and leases high-performance electric vehicles and energy generation and storage systems, and offers related services. They offer leasing and loan financing arrangements for vehicles in North America, Europe, and Asia, and provide resale value guarantees or buyback guarantees in certain programs. They also offer an extensive network of Supercharger stops for their vehicles, with payment or free access depending on certain sales programs.\""
            ]
          },
          "execution_count": 76,
          "metadata": {},
          "output_type": "execute_result"
        }
      ],
      "source": [
        "loader = PyPDFLoader(\"tsla-20221231-gen.pdf\")\n",
        "pages = loader.load_and_split()\n",
        "summarize_docs(pages[:10], \"tsla-20221231-gen.pdf\")"
      ]
    }
  ],
  "metadata": {
    "colab": {
      "authorship_tag": "ABX9TyMmoN24WxC9YPbZeCUtS0+a",
      "include_colab_link": true,
      "provenance": []
    },
    "kernelspec": {
      "display_name": "Python 3",
      "name": "python3"
    },
    "language_info": {
      "codemirror_mode": {
        "name": "ipython",
        "version": 3
      },
      "file_extension": ".py",
      "mimetype": "text/x-python",
      "name": "python",
      "nbconvert_exporter": "python",
      "pygments_lexer": "ipython3",
      "version": "3.10.13"
    }
  },
  "nbformat": 4,
  "nbformat_minor": 0
}
